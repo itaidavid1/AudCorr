{
 "cells": [
  {
   "cell_type": "code",
   "execution_count": 2,
   "outputs": [],
   "source": [
    "import pandas as pd\n",
    "import numpy as np\n",
    "from sklearn.cross_decomposition import CCA"
   ],
   "metadata": {
    "collapsed": false,
    "pycharm": {
     "name": "#%%\n"
    }
   }
  },
  {
   "cell_type": "code",
   "execution_count": 3,
   "outputs": [],
   "source": [
    "data_path = \"data.pkl\"\n"
   ],
   "metadata": {
    "collapsed": false,
    "pycharm": {
     "name": "#%%\n"
    }
   }
  },
  {
   "cell_type": "code",
   "execution_count": 4,
   "outputs": [],
   "source": [
    "data = pd.read_pickle(data_path)"
   ],
   "metadata": {
    "collapsed": false,
    "pycharm": {
     "name": "#%%\n"
    }
   }
  },
  {
   "cell_type": "code",
   "execution_count": 5,
   "outputs": [],
   "source": [
    "def reduce_atten(raster,prot):\n",
    "\n",
    "    prott = np.transpose(prot)\n",
    "    inds = prott[np.lexsort((prott[:,1],prott[:,0]))][:,1]==10\n",
    "    return raster[:,inds]\n",
    "\n",
    "raster = data.apply(lambda x : reduce_atten(x['FRARaster'],x['FRAProtocol']),axis=1)\n",
    "\n"
   ],
   "metadata": {
    "collapsed": false,
    "pycharm": {
     "name": "#%%\n"
    }
   }
  },
  {
   "cell_type": "code",
   "execution_count": 6,
   "outputs": [],
   "source": [
    "areas_dict = {'AUDp':'AC','AUDv':'AC','AUDd':'AC','TEa':'TE','ENT':'TE','ECT':'TE','ORB':'OFC','PL':'OFC','IL':'OFC'}\n",
    "\n",
    "def update_area_name(name):\n",
    "    for k in areas_dict.keys():\n",
    "        if k in name: return areas_dict[k]\n",
    "areas = data['acronymArea'].apply(update_area_name)\n",
    "#print(areas)\n",
    "\n"
   ],
   "metadata": {
    "collapsed": false,
    "pycharm": {
     "name": "#%%\n"
    }
   }
  },
  {
   "cell_type": "code",
   "execution_count": 7,
   "outputs": [
    {
     "ename": "KeyboardInterrupt",
     "evalue": "",
     "output_type": "error",
     "traceback": [
      "\u001B[1;31m---------------------------------------------------------------------------\u001B[0m",
      "\u001B[1;31mKeyboardInterrupt\u001B[0m                         Traceback (most recent call last)",
      "Input \u001B[1;32mIn [7]\u001B[0m, in \u001B[0;36m<cell line: 19>\u001B[1;34m()\u001B[0m\n\u001B[0;32m     22\u001B[0m \u001B[38;5;28;01mfor\u001B[39;00m t \u001B[38;5;129;01min\u001B[39;00m \u001B[38;5;28mrange\u001B[39m(stimulus_start,max_time):\n\u001B[0;32m     23\u001B[0m     \u001B[38;5;28;01mfor\u001B[39;00m d \u001B[38;5;129;01min\u001B[39;00m \u001B[38;5;28mrange\u001B[39m(\u001B[38;5;241m-\u001B[39mdelay,delay):\n\u001B[0;32m     24\u001B[0m         \u001B[38;5;66;03m#array = array[~np.isnan(array[1,:])]\u001B[39;00m\n\u001B[1;32m---> 25\u001B[0m         mat1 \u001B[38;5;241m=\u001B[39m \u001B[43mvector_per_time_area\u001B[49m(array,t\u001B[38;5;241m+\u001B[39md,\u001B[38;5;124m\"\u001B[39m\u001B[38;5;124mAC\u001B[39m\u001B[38;5;124m\"\u001B[39m)\n\u001B[0;32m     26\u001B[0m         mat2 \u001B[38;5;241m=\u001B[39m vector_per_time_area(array,t\u001B[38;5;241m+\u001B[39md,\u001B[38;5;124m\"\u001B[39m\u001B[38;5;124mTE\u001B[39m\u001B[38;5;124m\"\u001B[39m)\n\u001B[0;32m     27\u001B[0m         ca\u001B[38;5;241m.\u001B[39mfit(mat1,mat2)\n",
      "Input \u001B[1;32mIn [7]\u001B[0m, in \u001B[0;36m<cell line: 19>\u001B[1;34m()\u001B[0m\n\u001B[0;32m     22\u001B[0m \u001B[38;5;28;01mfor\u001B[39;00m t \u001B[38;5;129;01min\u001B[39;00m \u001B[38;5;28mrange\u001B[39m(stimulus_start,max_time):\n\u001B[0;32m     23\u001B[0m     \u001B[38;5;28;01mfor\u001B[39;00m d \u001B[38;5;129;01min\u001B[39;00m \u001B[38;5;28mrange\u001B[39m(\u001B[38;5;241m-\u001B[39mdelay,delay):\n\u001B[0;32m     24\u001B[0m         \u001B[38;5;66;03m#array = array[~np.isnan(array[1,:])]\u001B[39;00m\n\u001B[1;32m---> 25\u001B[0m         mat1 \u001B[38;5;241m=\u001B[39m \u001B[43mvector_per_time_area\u001B[49m(array,t\u001B[38;5;241m+\u001B[39md,\u001B[38;5;124m\"\u001B[39m\u001B[38;5;124mAC\u001B[39m\u001B[38;5;124m\"\u001B[39m)\n\u001B[0;32m     26\u001B[0m         mat2 \u001B[38;5;241m=\u001B[39m vector_per_time_area(array,t\u001B[38;5;241m+\u001B[39md,\u001B[38;5;124m\"\u001B[39m\u001B[38;5;124mTE\u001B[39m\u001B[38;5;124m\"\u001B[39m)\n\u001B[0;32m     27\u001B[0m         ca\u001B[38;5;241m.\u001B[39mfit(mat1,mat2)\n",
      "File \u001B[1;32m_pydevd_bundle\\pydevd_cython_win32_310_64.pyx:1179\u001B[0m, in \u001B[0;36m_pydevd_bundle.pydevd_cython_win32_310_64.SafeCallWrapper.__call__\u001B[1;34m()\u001B[0m\n",
      "File \u001B[1;32m_pydevd_bundle\\pydevd_cython_win32_310_64.pyx:620\u001B[0m, in \u001B[0;36m_pydevd_bundle.pydevd_cython_win32_310_64.PyDBFrame.trace_dispatch\u001B[1;34m()\u001B[0m\n",
      "File \u001B[1;32m_pydevd_bundle\\pydevd_cython_win32_310_64.pyx:929\u001B[0m, in \u001B[0;36m_pydevd_bundle.pydevd_cython_win32_310_64.PyDBFrame.trace_dispatch\u001B[1;34m()\u001B[0m\n",
      "File \u001B[1;32m_pydevd_bundle\\pydevd_cython_win32_310_64.pyx:920\u001B[0m, in \u001B[0;36m_pydevd_bundle.pydevd_cython_win32_310_64.PyDBFrame.trace_dispatch\u001B[1;34m()\u001B[0m\n",
      "File \u001B[1;32m_pydevd_bundle\\pydevd_cython_win32_310_64.pyx:317\u001B[0m, in \u001B[0;36m_pydevd_bundle.pydevd_cython_win32_310_64.PyDBFrame.do_wait_suspend\u001B[1;34m()\u001B[0m\n",
      "File \u001B[1;32mC:\\Program Files\\JetBrains\\PyCharm 2022.1.4\\plugins\\python\\helpers\\pydev\\pydevd.py:1155\u001B[0m, in \u001B[0;36mPyDB.do_wait_suspend\u001B[1;34m(self, thread, frame, event, arg, send_suspend_message, is_unhandled_exception)\u001B[0m\n\u001B[0;32m   1152\u001B[0m         from_this_thread\u001B[38;5;241m.\u001B[39mappend(frame_id)\n\u001B[0;32m   1154\u001B[0m \u001B[38;5;28;01mwith\u001B[39;00m \u001B[38;5;28mself\u001B[39m\u001B[38;5;241m.\u001B[39m_threads_suspended_single_notification\u001B[38;5;241m.\u001B[39mnotify_thread_suspended(thread_id, stop_reason):\n\u001B[1;32m-> 1155\u001B[0m     \u001B[38;5;28;43mself\u001B[39;49m\u001B[38;5;241;43m.\u001B[39;49m\u001B[43m_do_wait_suspend\u001B[49m\u001B[43m(\u001B[49m\u001B[43mthread\u001B[49m\u001B[43m,\u001B[49m\u001B[43m \u001B[49m\u001B[43mframe\u001B[49m\u001B[43m,\u001B[49m\u001B[43m \u001B[49m\u001B[43mevent\u001B[49m\u001B[43m,\u001B[49m\u001B[43m \u001B[49m\u001B[43marg\u001B[49m\u001B[43m,\u001B[49m\u001B[43m \u001B[49m\u001B[43msuspend_type\u001B[49m\u001B[43m,\u001B[49m\u001B[43m \u001B[49m\u001B[43mfrom_this_thread\u001B[49m\u001B[43m)\u001B[49m\n",
      "File \u001B[1;32mC:\\Program Files\\JetBrains\\PyCharm 2022.1.4\\plugins\\python\\helpers\\pydev\\pydevd.py:1170\u001B[0m, in \u001B[0;36mPyDB._do_wait_suspend\u001B[1;34m(self, thread, frame, event, arg, suspend_type, from_this_thread)\u001B[0m\n\u001B[0;32m   1167\u001B[0m             \u001B[38;5;28mself\u001B[39m\u001B[38;5;241m.\u001B[39m_call_mpl_hook()\n\u001B[0;32m   1169\u001B[0m         \u001B[38;5;28mself\u001B[39m\u001B[38;5;241m.\u001B[39mprocess_internal_commands()\n\u001B[1;32m-> 1170\u001B[0m         \u001B[43mtime\u001B[49m\u001B[38;5;241;43m.\u001B[39;49m\u001B[43msleep\u001B[49m\u001B[43m(\u001B[49m\u001B[38;5;241;43m0.01\u001B[39;49m\u001B[43m)\u001B[49m\n\u001B[0;32m   1172\u001B[0m \u001B[38;5;28mself\u001B[39m\u001B[38;5;241m.\u001B[39mcancel_async_evaluation(get_current_thread_id(thread), \u001B[38;5;28mstr\u001B[39m(\u001B[38;5;28mid\u001B[39m(frame)))\n\u001B[0;32m   1174\u001B[0m \u001B[38;5;66;03m# process any stepping instructions\u001B[39;00m\n",
      "\u001B[1;31mKeyboardInterrupt\u001B[0m: "
     ]
    }
   ],
   "source": [
    "stimulus_duration = 40\n",
    "stimulus_start = 100\n",
    "early_evoked = 120\n",
    "late_evoked = 200\n",
    "spon_evoked = 500\n",
    "delay = 80\n",
    "max_time = 1000\n",
    "\n",
    "def vector_per_time_area(array,time,area):\n",
    "    out = np.empty((array.shape[1],540))\n",
    "    # out = pd.DataFrame()\n",
    "    temp = array[array['area'] == area] ## extract the units from the specific area\n",
    "    for ind,u in enumerate(temp.iterrows()):\n",
    "        # out.append(u[1]['raster'][time,:])\n",
    "        print(u)\n",
    "        out[ind,:] = u[1]['raster'][time,:]\n",
    "    return out\n",
    "ca = CCA()\n",
    "for m in data['mouse_num'].unique():\n",
    "    array = pd.DataFrame(np.transpose([raster,areas]),columns=['raster','area'])\n",
    "    array = array[data['mouse_num']==m]\n",
    "    for t in range(stimulus_start,max_time):\n",
    "        for d in range(-delay,delay):\n",
    "            #array = array[~np.isnan(array[1,:])]\n",
    "            mat1 = vector_per_time_area(array,t+d,\"AC\")\n",
    "            mat2 = vector_per_time_area(array,t+d,\"TE\")\n",
    "            ca.fit(mat1,mat2)\n",
    "            AC_c, TE_c = ca.transform(mat1,mat2)"
   ],
   "metadata": {
    "collapsed": false,
    "pycharm": {
     "name": "#%%\n"
    }
   }
  },
  {
   "cell_type": "code",
   "execution_count": null,
   "outputs": [],
   "source": [
    "stimulus_duration = 40\n",
    "stimulus_start = 100\n",
    "early_evoked = 120\n",
    "late_evoked = 200\n",
    "spon_evoked = 500\n",
    "\n",
    "def vector_per_time_area(array,time,area):\n",
    "    out = np.empty(np.size(array))\n",
    "    temp = array[array['area'] = area] ## extract the units from the specific area\n",
    "    for ind,u in enumerate(temp):\n",
    "        temp['raster']\n",
    "\n"
   ],
   "metadata": {
    "collapsed": false,
    "pycharm": {
     "name": "#%%\n"
    }
   }
  }
 ],
 "metadata": {
  "kernelspec": {
   "display_name": "Python 3",
   "language": "python",
   "name": "python3"
  },
  "language_info": {
   "codemirror_mode": {
    "name": "ipython",
    "version": 2
   },
   "file_extension": ".py",
   "mimetype": "text/x-python",
   "name": "python",
   "nbconvert_exporter": "python",
   "pygments_lexer": "ipython2",
   "version": "2.7.6"
  }
 },
 "nbformat": 4,
 "nbformat_minor": 0
}